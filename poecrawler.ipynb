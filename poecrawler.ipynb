{
 "cells": [
  {
   "cell_type": "code",
   "execution_count": 1,
   "metadata": {},
   "outputs": [],
   "source": [
    "import requests\n",
    "import time\n",
    "import numpy as np\n",
    "import pandas as pd\n",
    "from bs4 import BeautifulSoup #整理html資料\n",
    "import json #處理json資料\n",
    "from urllib.parse import quote #用於將url中英互換\n",
    "from fake_useragent import UserAgent #創建假useragent\n",
    "from math import ceil\n",
    "import pygsheets"
   ]
  },
  {
   "cell_type": "code",
   "execution_count": 2,
   "metadata": {},
   "outputs": [],
   "source": [
    "def post_to_url_list() :\n",
    "    \n",
    "    data = {\"query\":{\"status\":{\"option\":\"online\"}, \"name\":\"七日鋒\", \"type\":\"夜語長劍\",\n",
    "                     \"stats\":[{\"type\":\"and\",\"filters\":[]}]},\"sort\":{\"price\":\"asc\"}}\n",
    "    \n",
    "    post_url = \"https://web.poe.garena.tw/api/trade/search/\" + quote(\"戰亂聯盟\")#quote將url編碼\n",
    "    res = requests.post(post_url, json=data)\n",
    "    soup = BeautifulSoup(res.text, \"html5lib\") #html5lib最泛用\n",
    "    post_json = json.loads(soup.text, encoding=\"utf-8\") #將資料轉成json型態\n",
    "\n",
    "    result, query, total= post_json[\"result\"], post_json[\"id\"], post_json[\"total\"]\n",
    "    \n",
    "    url_list = []\n",
    "    need_times = ceil(len(result)/10) #需要次數假設63/10=6.3，無條件進位 =7次\n",
    "\n",
    "    for i in range(1, need_times+1): #1 2 3 4 \n",
    "        url_tmp = \"https://web.poe.garena.tw/api/trade/fetch/\"\n",
    "\n",
    "        for iid in range((i-1)*10,i*10): #(0-9), (10-19)\n",
    "            if iid >= len(result):\n",
    "                break\n",
    "            url_tmp += (result[iid] + \",\")\n",
    "        url = url_tmp[:-1] + \"?query=\" + query#str(iid)#去除最後一個逗點\n",
    "        url_list.append(url)\n",
    "    return url_list"
   ]
  },
  {
   "cell_type": "code",
   "execution_count": 3,
   "metadata": {},
   "outputs": [],
   "source": [
    "def url_list_to_df(url_list) :\n",
    "    ua = UserAgent() #製造假ua\n",
    "    df = pd.DataFrame(columns=[\"amount\", \"currency\", \"whisper\"], dtype=np.float64)\n",
    "    count = 0\n",
    "    for url in url_list:\n",
    "        res = requests.get(url, headers = {'user-agent': ua.random})\n",
    "        ud = json.loads(res.text,encoding=\"utf-8\")\n",
    "        id_list = [i[\"id\"] for i in ud[\"result\"]]\n",
    "        for i in range(len(id_list)):\n",
    "            price = ud[\"result\"][i][\"listing\"][\"price\"]\n",
    "            if price != None:\n",
    "                df.loc[i+count, ['amount','currency']] = price['amount'], price[\"currency\"]\n",
    "            elif price == None:\n",
    "                df.loc[i+count, ['amount','currency']] = np.NAN, \"None\"\n",
    "            df.loc[i+count, \"whisper\"] = ud[\"result\"][i][\"listing\"]['whisper']\n",
    "            count += 1\n",
    "    return df"
   ]
  },
  {
   "cell_type": "code",
   "execution_count": 4,
   "metadata": {},
   "outputs": [],
   "source": [
    "def set_wks(wks):\n",
    "    wks.cols = 3\n",
    "    wks.title = time.strftime('%Y/%m/%d %H:%M:%S',time.localtime())\n",
    "    wks.adjust_column_width(start=2, pixel_size=800)\n",
    "    return wks"
   ]
  },
  {
   "cell_type": "code",
   "execution_count": 5,
   "metadata": {},
   "outputs": [],
   "source": [
    "def get_wks():\n",
    "    gc = pygsheets.authorize()\n",
    "    \n",
    "    strtime_now = time.strftime('%Y/%m/%d %H:%M:%S',time.localtime())\n",
    "    file_name = \"七日鋒_夜語長劍\"\n",
    "    \n",
    "    try: #測試是否存在\n",
    "        sh = gc.open(file_name)\n",
    "    except: #不存在的話，建立一個檔案，並且將sheet1設定為當前時間\n",
    "        sh = gc.create(file_name)\n",
    "        wks = sh.sheet1\n",
    "        wks.title = strtime_now\n",
    "    else: #有找到檔案則新建一個工作表，index = 當前工作表數量\n",
    "        wks = sh.add_worksheet(index=len(sh.worksheets()), title=strtime_now)\n",
    "    finally:\n",
    "        wks.cols = 3 \n",
    "        wks.adjust_column_width(start=2, pixel_size=800) #設定whisper的寬度\n",
    "    return wks"
   ]
  },
  {
   "cell_type": "code",
   "execution_count": 9,
   "metadata": {},
   "outputs": [],
   "source": [
    "def del_all_gsheet_by_filename(file_name):\n",
    "    while True:\n",
    "        try:\n",
    "            sh = gc.open(file_name)\n",
    "            sh.delete()\n",
    "        except:\n",
    "            print(\"完成\")\n",
    "            break"
   ]
  },
  {
   "cell_type": "code",
   "execution_count": 6,
   "metadata": {},
   "outputs": [],
   "source": [
    "def main():\n",
    "    wks = get_wks()\n",
    "    url_list = post_to_url_list()\n",
    "    df = url_list_to_df(url_list)\n",
    "    wks.set_dataframe(df, start=\"A1\") #將dataframe自A1"
   ]
  },
  {
   "cell_type": "code",
   "execution_count": 7,
   "metadata": {},
   "outputs": [],
   "source": [
    "if __name__ == \"__main__\":\n",
    "    main()"
   ]
  }
 ],
 "metadata": {
  "kernelspec": {
   "display_name": "Python 3",
   "language": "python",
   "name": "python3"
  },
  "language_info": {
   "codemirror_mode": {
    "name": "ipython",
    "version": 3
   },
   "file_extension": ".py",
   "mimetype": "text/x-python",
   "name": "python",
   "nbconvert_exporter": "python",
   "pygments_lexer": "ipython3",
   "version": "3.6.6"
  }
 },
 "nbformat": 4,
 "nbformat_minor": 2
}
